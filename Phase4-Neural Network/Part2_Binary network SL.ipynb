{
 "cells": [
  {
   "cell_type": "markdown",
   "id": "213fb40e34ba834",
   "metadata": {},
   "source": [
    "### libraries\n",
    " \n",
    "- `numpy` for numerical operations\n",
    "- `tensorflow` for dataset loading \n",
    "- `sklearn.metrics` for evaluation\n",
    "- `matplotlib.pyplot` for plotting.\n"
   ]
  },
  {
   "cell_type": "code",
   "id": "initial_id",
   "metadata": {
    "collapsed": true,
    "jupyter": {
     "outputs_hidden": true
    },
    "ExecuteTime": {
     "end_time": "2025-05-30T21:40:31.029738Z",
     "start_time": "2025-05-30T21:40:31.021935Z"
    }
   },
   "source": [
    "import numpy as np\n",
    "import tensorflow as tf\n",
    "from sklearn.metrics import confusion_matrix, f1_score, precision_score, recall_score\n",
    "import matplotlib.pyplot as plt\n",
    "import math"
   ],
   "outputs": [],
   "execution_count": 34
  },
  {
   "cell_type": "markdown",
   "id": "19ad2d41bf3ba839",
   "metadata": {},
   "source": [
    "### Data Loading and Preprocessing\n",
    "\n",
    "The `load_and_preprocess_data_multiclass` function handles:\n",
    "- Loading the **CIFAR-10 dataset**.\n",
    "- Normalizing image pixel values to the [0, 1] range.\n",
    "- Flattening images into vectors.\n",
    "- **One-hot encoding** the labels for multiclass classification.\n",
    "- Splitting the training data into training and validation sets.\n",
    "It returns processed training, validation, and test sets, along with original integer labels for the test set for evaluation."
   ]
  },
  {
   "cell_type": "code",
   "id": "c15a82068d0f5de1",
   "metadata": {
    "ExecuteTime": {
     "end_time": "2025-05-30T21:40:31.118355Z",
     "start_time": "2025-05-30T21:40:31.106220Z"
    }
   },
   "source": [
    "def load_and_preprocess_data_binary(validation_split_ratio=0.1):\n",
    "    (x_train_orig, y_train_orig), (x_test_orig, y_test_orig) = \\\n",
    "        tf.keras.datasets.cifar10.load_data()\n",
    "\n",
    "    print(f\"Initial training data size: {x_train_orig.shape[0]}\")\n",
    "    print(f\"Initial test data size: {x_test_orig.shape[0]}\")\n",
    "\n",
    "    x_train_normalized = x_train_orig.astype('float32') / 255.0\n",
    "    x_test_normalized = x_test_orig.astype('float32') / 255.0\n",
    "\n",
    "    x_train_flattened = x_train_normalized.reshape(x_train_normalized.shape[0], -1)\n",
    "    x_test_flattened = x_test_normalized.reshape(x_test_normalized.shape[0], -1)\n",
    "\n",
    "    # Binary classification: 1 for airplane (label 0), 0 for others\n",
    "    y_train_binary = np.where(y_train_orig == 0, 1, 0).astype('float32')\n",
    "    y_test_binary = np.where(y_test_orig == 0, 1, 0).astype('float32')\n",
    "\n",
    "    num_train_samples = x_train_flattened.shape[0]\n",
    "    permutation = np.random.permutation(num_train_samples)\n",
    "    shuffled_X = x_train_flattened[permutation]\n",
    "    shuffled_Y_binary = y_train_binary[permutation]\n",
    "\n",
    "    split_index = int(num_train_samples * (1 - validation_split_ratio))\n",
    "\n",
    "    x_train_final = shuffled_X[:split_index]\n",
    "    y_train_final = shuffled_Y_binary[:split_index]\n",
    "    x_val = shuffled_X[split_index:]\n",
    "    y_val = shuffled_Y_binary[split_index:]\n",
    "\n",
    "    print(\"--- Processed Data Shapes ---\")\n",
    "    print(f\"x_train_final: {x_train_final.shape}, y_train_final: {y_train_final.shape}\")\n",
    "    print(f\"x_val: {x_val.shape}, y_val: {y_val.shape}\")\n",
    "    print(f\"x_test_flattened: {x_test_flattened.shape}, y_test_binary: {y_test_binary.shape}\")\n",
    "    print(\"-----------------------------\")\n",
    "\n",
    "    return x_train_final, y_train_final, x_val, y_val, x_test_flattened, y_test_binary"
   ],
   "outputs": [],
   "execution_count": 35
  },
  {
   "cell_type": "markdown",
   "id": "b20e65e4cc438f65",
   "metadata": {},
   "source": [
    "### Activation and Loss Functions\n",
    "\n",
    "Defines the `sigmoid` activation function ( $ \\sigma(z) = \\frac{1}{1 + e^{-z}} $ ) and the `binary_cross_entropy_loss` function. The loss function includes clipping to prevent `log(0)`."
   ]
  },
  {
   "cell_type": "code",
   "id": "11d0056b17f4d2c1",
   "metadata": {
    "ExecuteTime": {
     "end_time": "2025-05-30T21:40:31.144447Z",
     "start_time": "2025-05-30T21:40:31.137996Z"
    }
   },
   "source": [
    "def sigmoid(z):\n",
    "    z_clipped = np.clip(z, -500, 500) # Avoid overflow/underflow\n",
    "    s = 1 / (1 + np.exp(-z_clipped))\n",
    "    return s\n",
    "\n",
    "def binary_cross_entropy_loss(y_true, y_pred):\n",
    "    m = y_true.shape[1]\n",
    "    epsilon = 1e-12\n",
    "    y_pred_clipped = np.clip(y_pred, epsilon, 1. - epsilon)\n",
    "    cost = - (1 / m) * np.sum(y_true * np.log(y_pred_clipped) + (1 - y_true) * np.log(1 - y_pred_clipped))\n",
    "    return np.squeeze(cost)"
   ],
   "outputs": [],
   "execution_count": 36
  },
  {
   "cell_type": "markdown",
   "id": "eca3fd59ffba5048",
   "metadata": {},
   "source": [
    "### Neural Network Implementation\n",
    "\n",
    "This section contains functions for a simple one-hidden-layer neural network:\n",
    "- `define_layer_sizes_binary`: Sets the input, hidden, and output layer sizes.\n",
    "- `initialize_parameters_binary`: Initializes weights (He initialization) and biases.\n",
    "- `forward_propagation_binary`: Computes the forward pass ($Z^{[1]}, A^{[1]}, Z^{[2]}, A^{[2]}$). Sigmoid activation is used for both hidden and output layers.\n",
    "- `backward_propagation_binary`: Computes gradients ($dW^{[1]}, db^{[1]}, dW^{[2]}, db^{[2]}$).\n",
    "- `update_parameters`: Updates model parameters using gradient descent."
   ]
  },
  {
   "cell_type": "code",
   "id": "5afcded46e665d32",
   "metadata": {
    "ExecuteTime": {
     "end_time": "2025-05-30T21:40:31.170227Z",
     "start_time": "2025-05-30T21:40:31.153957Z"
    }
   },
   "source": [
    "def define_layer_sizes_binary(X_shape_cols, n_h):\n",
    "    n_x = X_shape_cols\n",
    "    n_y = 1 # Binary classification\n",
    "    return n_x, n_h, n_y\n",
    "\n",
    "def initialize_parameters_binary(n_x, n_h, n_y):\n",
    "    np.random.seed(42) # For reproducibility\n",
    "    W1 = np.random.randn(n_h, n_x) * np.sqrt(2. / n_x) # He initialization\n",
    "    b1 = np.zeros((n_h, 1))\n",
    "    W2 = np.random.randn(n_y, n_h) * np.sqrt(2. / n_h) # He initialization\n",
    "    b2 = np.zeros((n_y, 1))\n",
    "    return {\"W1\": W1, \"b1\": b1, \"W2\": W2, \"b2\": b2}\n",
    "\n",
    "def forward_propagation_binary(X_input, parameters):\n",
    "    W1, b1, W2, b2 = parameters[\"W1\"], parameters[\"b1\"], parameters[\"W2\"], parameters[\"b2\"]\n",
    "    Z1 = np.dot(W1, X_input) + b1\n",
    "    A1 = sigmoid(Z1)\n",
    "    Z2 = np.dot(W2, A1) + b2\n",
    "    A2 = sigmoid(Z2) \n",
    "    cache = {\"Z1\": Z1, \"A1\": A1, \"Z2\": Z2, \"A2\": A2}\n",
    "    return A2, cache\n",
    "\n",
    "def backward_propagation_binary(parameters, cache, X_input, Y_binary_true):\n",
    "    m = X_input.shape[1]\n",
    "    W2 = parameters[\"W2\"]\n",
    "    A1, A2 = cache[\"A1\"], cache[\"A2\"]\n",
    "\n",
    "    dZ2 = A2 - Y_binary_true\n",
    "    dW2 = (1 / m) * np.dot(dZ2, A1.T)\n",
    "    db2 = (1 / m) * np.sum(dZ2, axis=1, keepdims=True)\n",
    "\n",
    "    dA1 = np.dot(W2.T, dZ2)\n",
    "    dZ1 = dA1 * (A1 * (1 - A1)) \n",
    "    dW1 = (1 / m) * np.dot(dZ1, X_input.T)\n",
    "    db1 = (1 / m) * np.sum(dZ1, axis=1, keepdims=True)\n",
    "\n",
    "    return {\"dW1\": dW1, \"db1\": db1, \"dW2\": dW2, \"db2\": db2}\n",
    "\n",
    "def update_parameters(parameters, grads, learning_rate):\n",
    "    updated_params = {}\n",
    "    for key in parameters.keys():\n",
    "        updated_params[key] = parameters[key] - learning_rate * grads['d' + key]\n",
    "    return updated_params"
   ],
   "outputs": [],
   "execution_count": 37
  },
  {
   "cell_type": "markdown",
   "id": "aab3316a482dae2f",
   "metadata": {},
   "source": [
    "### Model Training and Evaluation\n",
    "\n",
    "- `create_minibatches`: Splits data into mini-batches for stochastic gradient descent.\n",
    "- `nn_model_binary_advanced`: Orchestrates the training of the neural network. It uses mini-batch gradient descent, calculates validation loss for early stopping, and evaluates the model on the test set using metrics like F1-score, precision, recall, and accuracy."
   ]
  },
  {
   "cell_type": "code",
   "id": "650c0ed0d9bdf19a",
   "metadata": {
    "ExecuteTime": {
     "end_time": "2025-05-30T21:40:31.178030Z",
     "start_time": "2025-05-30T21:40:31.170227Z"
    }
   },
   "source": [
    "def create_minibatches(X_input, Y_labels, minibatch_size=128, seed=0):\n",
    "    np.random.seed(seed)\n",
    "    m = X_input.shape[1]\n",
    "    minibatches = []\n",
    "    permutation = list(np.random.permutation(m))\n",
    "    shuffled_X = X_input[:, permutation]\n",
    "    shuffled_Y = Y_labels[:, permutation].reshape((Y_labels.shape[0], m))\n",
    "\n",
    "    num_complete_minibatches = math.floor(m / minibatch_size)\n",
    "    for k in range(num_complete_minibatches):\n",
    "        minibatch_X = shuffled_X[:, k * minibatch_size : (k + 1) * minibatch_size]\n",
    "        minibatch_Y = shuffled_Y[:, k * minibatch_size : (k + 1) * minibatch_size]\n",
    "        minibatches.append((minibatch_X, minibatch_Y))\n",
    "\n",
    "    if m % minibatch_size != 0:\n",
    "        minibatch_X = shuffled_X[:, num_complete_minibatches * minibatch_size : m]\n",
    "        minibatch_Y = shuffled_Y[:, num_complete_minibatches * minibatch_size : m]\n",
    "        minibatches.append((minibatch_X, minibatch_Y))\n",
    "    return minibatches"
   ],
   "outputs": [],
   "execution_count": 38
  },
  {
   "cell_type": "code",
   "id": "e83371f7ddc3ee10",
   "metadata": {
    "ExecuteTime": {
     "end_time": "2025-05-30T21:40:31.192950Z",
     "start_time": "2025-05-30T21:40:31.178030Z"
    }
   },
   "source": [
    "def nn_model_binary(\n",
    "        X_train_data, Y_train_labels, X_val_data, Y_val_labels, X_test_data, Y_test_labels,\n",
    "        n_h, num_epochs=100, minibatch_size=128, learning_rate=0.01,\n",
    "        patience_early_stopping=10, print_cost_every_n_epochs=1\n",
    "):\n",
    "    # Input data: (num_samples, num_features), labels: (num_samples, 1)\n",
    "    # Internal calculations use transposed data: (num_features/classes, num_samples)\n",
    "    X_train_t = X_train_data.T\n",
    "    Y_train_t = Y_train_labels.T.reshape(1, -1)\n",
    "    X_val_t = X_val_data.T\n",
    "    Y_val_t = Y_val_labels.T.reshape(1, -1)\n",
    "    X_test_t = X_test_data.T\n",
    "    Y_test_t = Y_test_labels.T.reshape(1, -1)\n",
    "\n",
    "    n_x, _, n_y = define_layer_sizes_binary(X_train_data.shape[1], n_h)\n",
    "    parameters = initialize_parameters_binary(n_x, n_h, n_y)\n",
    "\n",
    "    train_costs, val_costs = [], []\n",
    "    best_val_cost = float('inf')\n",
    "    epochs_no_improve = 0\n",
    "    best_parameters = parameters.copy()\n",
    "    current_seed = 0\n",
    "    actual_epochs_run = 0\n",
    "\n",
    "    print(f\"\\n--- Training Binary Neural Network ---\")\n",
    "    print(f\"Architecture: Input={n_x}, Hidden={n_h}, Output={n_y}\")\n",
    "    print(f\"Epochs={num_epochs}, LR={learning_rate}, BatchSize={minibatch_size}, Patience={patience_early_stopping}\\n\")\n",
    "\n",
    "    for epoch in range(num_epochs):\n",
    "        actual_epochs_run = epoch + 1\n",
    "        current_seed += 1\n",
    "        epoch_cost_sum = 0\n",
    "        minibatches = create_minibatches(X_train_t, Y_train_t, minibatch_size, current_seed)\n",
    "\n",
    "        for minibatch_X, minibatch_Y in minibatches:\n",
    "            A2_mini, cache_mini = forward_propagation_binary(minibatch_X, parameters)\n",
    "            cost_mini = binary_cross_entropy_loss(minibatch_Y, A2_mini)\n",
    "            epoch_cost_sum += cost_mini\n",
    "            grads = backward_propagation_binary(parameters, cache_mini, minibatch_X, minibatch_Y)\n",
    "            parameters = update_parameters(parameters, grads, learning_rate)\n",
    "\n",
    "        avg_train_cost = epoch_cost_sum / len(minibatches)\n",
    "        train_costs.append(avg_train_cost)\n",
    "\n",
    "        A2_val, _ = forward_propagation_binary(X_val_t, parameters)\n",
    "        current_val_cost = binary_cross_entropy_loss(Y_val_t, A2_val)\n",
    "        val_costs.append(current_val_cost)\n",
    "\n",
    "        if (epoch + 1) % print_cost_every_n_epochs == 0 or epoch == num_epochs -1:\n",
    "            print(f\"Epoch {epoch+1}/{num_epochs} - Train Cost: {avg_train_cost:.6f} - Val Cost: {current_val_cost:.6f}\")\n",
    "\n",
    "        if current_val_cost < best_val_cost:\n",
    "            best_val_cost = current_val_cost\n",
    "            best_parameters = {k: v.copy() for k, v in parameters.items()} # Deep copy\n",
    "            epochs_no_improve = 0\n",
    "        else:\n",
    "            epochs_no_improve += 1\n",
    "            if epochs_no_improve >= patience_early_stopping:\n",
    "                print(f\"Early stopping: Epoch {epoch+1}. Best val cost: {best_val_cost:.6f}\")\n",
    "                parameters = best_parameters\n",
    "                break\n",
    "    parameters = best_parameters\n",
    "\n",
    "    A2_test, _ = forward_propagation_binary(X_test_t, parameters)\n",
    "    Y_pred_test = (A2_test > 0.5).astype(float).flatten()\n",
    "    Y_test_flat = Y_test_labels.flatten()\n",
    "\n",
    "    print(f\"\\n--- Model Evaluation ---\")\n",
    "    cm = confusion_matrix(Y_test_flat, Y_pred_test)\n",
    "    f1 = f1_score(Y_test_flat, Y_pred_test, zero_division=0)\n",
    "    precision = precision_score(Y_test_flat, Y_pred_test, zero_division=0)\n",
    "    recall = recall_score(Y_test_flat, Y_pred_test, zero_division=0)\n",
    "    accuracy = np.mean(Y_pred_test == Y_test_flat) * 100\n",
    "\n",
    "    print(\"Confusion Matrix (Test):\\n\", cm)\n",
    "    print(f\"Precision: {precision:.4f}, Recall: {recall:.4f}, F1-score: {f1:.4f}\")\n",
    "    print(f\"Overall Test Accuracy: {accuracy:.2f}%\")\n",
    "\n",
    "    history = {\"train_costs\": train_costs, \"val_costs\": val_costs, \"epochs_run\": actual_epochs_run}\n",
    "    results = {\"parameters\": parameters, \"history\": history, \"learning_rate\": learning_rate,\n",
    "               \"num_epochs_conf\": num_epochs, \"n_h\": n_h, \"accuracy\": accuracy,\n",
    "               \"minibatch_size\": minibatch_size, \"f1\": f1, \"precision\": precision, \"recall\": recall}\n",
    "    return results"
   ],
   "outputs": [],
   "execution_count": 39
  },
  {
   "cell_type": "markdown",
   "id": "29a327cb588cb479",
   "metadata": {},
   "source": [
    "### Plotting Function\n",
    "\n",
    "The `plot_train_val_costs_binary` function visualizes the training and validation loss curves over epochs. This helps in diagnosing issues like overfitting or underfitting.\n"
   ]
  },
  {
   "cell_type": "code",
   "id": "6ddf94205004b582",
   "metadata": {
    "ExecuteTime": {
     "end_time": "2025-05-30T21:40:31.208147Z",
     "start_time": "2025-05-30T21:40:31.201475Z"
    }
   },
   "source": [
    "def plot_train_val_costs_binary(history_data, lr, n_h_nodes, batch_s):\n",
    "    train_c = history_data[\"train_costs\"]\n",
    "    val_c = history_data[\"val_costs\"]\n",
    "    epochs_r = range(1, history_data[\"epochs_run\"] + 1)\n",
    "\n",
    "    plt.figure(figsize=(10, 6))\n",
    "    plt.plot(epochs_r, train_c, label='Training Cost', marker='.')\n",
    "    plt.plot(epochs_r, val_c, label='Validation Cost', marker='.')\n",
    "    plt.ylabel('Cost (Binary Cross-Entropy)')\n",
    "    plt.xlabel('Epochs')\n",
    "    plt.title(f'Cost Curve (Hidden: {n_h_nodes}, LR: {lr}, Batch: {batch_s})')\n",
    "    plt.legend()\n",
    "    plt.grid(True)\n",
    "    plt.tight_layout()\n",
    "    plt.show()"
   ],
   "outputs": [],
   "execution_count": 40
  },
  {
   "cell_type": "markdown",
   "id": "d5db8ccd8841b824",
   "metadata": {},
   "source": [
    "### Main Execution\n",
    "\n",
    "This block sets up hyperparameters, loads data, trains the neural network model using `nn_model_binary`, plots the cost curves, and prints a summary of the final results."
   ]
  },
  {
   "cell_type": "code",
   "id": "851cb9e0cd957392",
   "metadata": {
    "ExecuteTime": {
     "end_time": "2025-05-30T21:51:04.118730Z",
     "start_time": "2025-05-30T21:40:31.237554Z"
    }
   },
   "source": [
    "if __name__ == \"__main__\":\n",
    "    x_train, y_train, x_val, y_val, x_test, y_test = \\\n",
    "        load_and_preprocess_data_binary(validation_split_ratio=0.15) # Example: 15% validation\n",
    "\n",
    "    # Hyperparameters\n",
    "    HIDDEN_LAYER_NODES = 32 # Number of neurons in the hidden layer\n",
    "    NUM_EPOCHS = 1000       # Max number of training iterations\n",
    "    LEARNING_RATE = 0.005   # Step size for gradient descent\n",
    "    MINIBATCH_SIZE = 128    # Number of examples in each mini-batch\n",
    "    PATIENCE = 15          # Epochs to wait for improvement before early stopping\n",
    "    PRINT_EVERY = 10       # Frequency of printing training progress\n",
    "\n",
    "    model_results = nn_model_binary(\n",
    "        x_train, y_train, x_val, y_val, x_test, y_test,\n",
    "        n_h=HIDDEN_LAYER_NODES,\n",
    "        num_epochs=NUM_EPOCHS,\n",
    "        minibatch_size=MINIBATCH_SIZE,\n",
    "        learning_rate=LEARNING_RATE,\n",
    "        patience_early_stopping=PATIENCE,\n",
    "        print_cost_every_n_epochs=PRINT_EVERY\n",
    "    )\n",
    "\n",
    "    if model_results and \"history\" in model_results:\n",
    "        plot_train_val_costs_binary(\n",
    "            model_results[\"history\"],\n",
    "            model_results[\"learning_rate\"],\n",
    "            model_results[\"n_h\"],\n",
    "            model_results[\"minibatch_size\"]\n",
    "        )\n",
    "\n",
    "    print(f\"\\n--- Final Summary ---\")\n",
    "    if model_results:\n",
    "        print(f\"Hidden Neurons: {model_results['n_h']}\")\n",
    "        print(f\"Learning Rate: {model_results['learning_rate']}, Configured Epochs: {model_results['num_epochs_conf']}\")\n",
    "        print(f\"Epochs Run: {model_results['history']['epochs_run']}\")\n",
    "        print(f\"Mini-batch Size: {model_results['minibatch_size']}\")\n",
    "        print(f\"Test Accuracy: {model_results['accuracy']:.2f}%\")\n",
    "        print(f\"Test F1: {model_results['f1']:.4f}, Precision: {model_results['precision']:.4f}, Recall: {model_results['recall']:.4f}\")\n",
    "    else:\n",
    "        print(\"Model training did not produce results.\")"
   ],
   "outputs": [
    {
     "name": "stdout",
     "output_type": "stream",
     "text": [
      "Initial training data size: 50000\n",
      "Initial test data size: 10000\n",
      "--- Processed Data Shapes ---\n",
      "x_train_final: (42500, 3072), y_train_final: (42500, 1)\n",
      "x_val: (7500, 3072), y_val: (7500, 1)\n",
      "x_test_flattened: (10000, 3072), y_test_binary: (10000, 1)\n",
      "-----------------------------\n",
      "\n",
      "--- Training Binary Neural Network ---\n",
      "Architecture: Input=3072, Hidden=32, Output=1\n",
      "Epochs=1000, LR=0.005, BatchSize=128, Patience=15\n",
      "\n",
      "Epoch 10/1000 - Train Cost: 0.301910 - Val Cost: 0.302764\n",
      "Epoch 20/1000 - Train Cost: 0.275033 - Val Cost: 0.276749\n",
      "Epoch 30/1000 - Train Cost: 0.265917 - Val Cost: 0.268747\n",
      "Epoch 40/1000 - Train Cost: 0.262191 - Val Cost: 0.265780\n",
      "Epoch 50/1000 - Train Cost: 0.260360 - Val Cost: 0.263731\n",
      "Epoch 60/1000 - Train Cost: 0.257883 - Val Cost: 0.261954\n",
      "Epoch 70/1000 - Train Cost: 0.255732 - Val Cost: 0.259844\n",
      "Epoch 80/1000 - Train Cost: 0.253851 - Val Cost: 0.257959\n",
      "Epoch 90/1000 - Train Cost: 0.253111 - Val Cost: 0.256013\n",
      "Epoch 100/1000 - Train Cost: 0.250383 - Val Cost: 0.255947\n",
      "Epoch 110/1000 - Train Cost: 0.248356 - Val Cost: 0.252874\n",
      "Epoch 120/1000 - Train Cost: 0.246558 - Val Cost: 0.250930\n",
      "Epoch 130/1000 - Train Cost: 0.244759 - Val Cost: 0.249391\n",
      "Epoch 140/1000 - Train Cost: 0.243262 - Val Cost: 0.248326\n",
      "Epoch 150/1000 - Train Cost: 0.242099 - Val Cost: 0.247029\n",
      "Epoch 160/1000 - Train Cost: 0.240339 - Val Cost: 0.245686\n",
      "Epoch 170/1000 - Train Cost: 0.238829 - Val Cost: 0.244347\n",
      "Epoch 180/1000 - Train Cost: 0.238350 - Val Cost: 0.243545\n",
      "Epoch 190/1000 - Train Cost: 0.236980 - Val Cost: 0.243082\n",
      "Epoch 200/1000 - Train Cost: 0.236066 - Val Cost: 0.241527\n",
      "Epoch 210/1000 - Train Cost: 0.233949 - Val Cost: 0.240068\n",
      "Epoch 220/1000 - Train Cost: 0.234385 - Val Cost: 0.242122\n",
      "Epoch 230/1000 - Train Cost: 0.231627 - Val Cost: 0.238140\n",
      "Epoch 240/1000 - Train Cost: 0.230380 - Val Cost: 0.237329\n",
      "Epoch 250/1000 - Train Cost: 0.229661 - Val Cost: 0.237804\n",
      "Epoch 260/1000 - Train Cost: 0.228460 - Val Cost: 0.235800\n",
      "Epoch 270/1000 - Train Cost: 0.227284 - Val Cost: 0.235097\n",
      "Epoch 280/1000 - Train Cost: 0.226494 - Val Cost: 0.234985\n",
      "Epoch 290/1000 - Train Cost: 0.225447 - Val Cost: 0.234548\n",
      "Epoch 300/1000 - Train Cost: 0.223951 - Val Cost: 0.233095\n",
      "Epoch 310/1000 - Train Cost: 0.223040 - Val Cost: 0.232504\n",
      "Epoch 320/1000 - Train Cost: 0.222148 - Val Cost: 0.232338\n",
      "Epoch 330/1000 - Train Cost: 0.220821 - Val Cost: 0.230834\n",
      "Epoch 340/1000 - Train Cost: 0.221715 - Val Cost: 0.240370\n",
      "Epoch 350/1000 - Train Cost: 0.218948 - Val Cost: 0.231213\n",
      "Epoch 360/1000 - Train Cost: 0.218097 - Val Cost: 0.229352\n",
      "Epoch 370/1000 - Train Cost: 0.216746 - Val Cost: 0.228337\n",
      "Epoch 380/1000 - Train Cost: 0.220145 - Val Cost: 0.229566\n",
      "Epoch 390/1000 - Train Cost: 0.215424 - Val Cost: 0.233870\n",
      "Epoch 400/1000 - Train Cost: 0.214546 - Val Cost: 0.234281\n",
      "Epoch 410/1000 - Train Cost: 0.212847 - Val Cost: 0.227242\n",
      "Epoch 420/1000 - Train Cost: 0.211757 - Val Cost: 0.227763\n",
      "Epoch 430/1000 - Train Cost: 0.211040 - Val Cost: 0.225823\n",
      "Epoch 440/1000 - Train Cost: 0.209696 - Val Cost: 0.226044\n",
      "Epoch 450/1000 - Train Cost: 0.209402 - Val Cost: 0.226292\n",
      "Epoch 460/1000 - Train Cost: 0.207918 - Val Cost: 0.224311\n",
      "Epoch 470/1000 - Train Cost: 0.207113 - Val Cost: 0.225287\n",
      "Early stopping: Epoch 476. Best val cost: 0.224226\n",
      "\n",
      "--- Model Evaluation ---\n",
      "Confusion Matrix (Test):\n",
      " [[8903   97]\n",
      " [ 702  298]]\n",
      "Precision: 0.7544, Recall: 0.2980, F1-score: 0.4272\n",
      "Overall Test Accuracy: 92.01%\n"
     ]
    },
    {
     "data": {
      "text/plain": [
       "<Figure size 1000x600 with 1 Axes>"
      ],
      "image/png": "[encoded data removed]"
     },
     "metadata": {},
     "output_type": "display_data"
    },
    {
     "name": "stdout",
     "output_type": "stream",
     "text": [
      "\n",
      "--- Final Summary ---\n",
      "Hidden Neurons: 32\n",
      "Learning Rate: 0.005, Configured Epochs: 1000\n",
      "Epochs Run: 476\n",
      "Mini-batch Size: 128\n",
      "Test Accuracy: 92.01%\n",
      "Test F1: 0.4272, Precision: 0.7544, Recall: 0.2980\n"
     ]
    }
   ],
   "execution_count": 41
  }
 ],
 "metadata": {
  "kernelspec": {
   "display_name": "Python [conda env:base] *",
   "language": "python",
   "name": "conda-base-py"
  },
  "language_info": {
   "codemirror_mode": {
    "name": "ipython",
    "version": 3
   },
   "file_extension": ".py",
   "mimetype": "text/x-python",
   "name": "python",
   "nbconvert_exporter": "python",
   "pygments_lexer": "ipython3",
   "version": "3.11.7"
  }
 },
 "nbformat": 4,
 "nbformat_minor": 5
}
