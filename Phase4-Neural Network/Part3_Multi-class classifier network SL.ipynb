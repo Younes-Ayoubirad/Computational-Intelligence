{
 "cells": [
  {
   "cell_type": "markdown",
   "id": "8418e74e29b7bcfd",
   "metadata": {},
   "source": [
    "### Imports and Setup\n",
    "\n",
    "Imports necessary libraries: \n",
    "- `numpy` for numerical operations\n",
    "- `tensorflow` for dataset loading \n",
    "- `sklearn.metrics` for evaluation\n",
    "- `matplotlib.pyplot` for plotting."
   ]
  },
  {
   "cell_type": "code",
   "id": "initial_id",
   "metadata": {
    "collapsed": true,
    "jupyter": {
     "outputs_hidden": true
    },
    "ExecuteTime": {
     "end_time": "2025-05-31T02:14:42.904783Z",
     "start_time": "2025-05-31T02:14:42.898274Z"
    }
   },
   "source": [
    "import numpy as np\n",
    "import tensorflow as tf\n",
    "from sklearn.metrics import classification_report, confusion_matrix\n",
    "import matplotlib.pyplot as plt\n",
    "import math "
   ],
   "outputs": [],
   "execution_count": 9
  },
  {
   "cell_type": "markdown",
   "id": "80e3d9e7c93fc3a7",
   "metadata": {},
   "source": [
    "### Data Loading and Preprocessing\n",
    "\n",
    "The `load_and_preprocess_data_multiclass` function handles:\n",
    "- Loading the **CIFAR-10 dataset**.\n",
    "- Normalizing image pixel values to the [0, 1] range.\n",
    "- Flattening images into vectors.\n",
    "- **One-hot encoding** the labels for multiclass classification.\n",
    "- Splitting the training data into training and validation sets.\n",
    "It returns processed training, validation, and test sets, along with original integer labels for the test set for evaluation."
   ]
  },
  {
   "cell_type": "code",
   "id": "240f8c3fe15d4fcd",
   "metadata": {
    "ExecuteTime": {
     "end_time": "2025-05-31T02:14:43.004868Z",
     "start_time": "2025-05-31T02:14:42.993499Z"
    }
   },
   "source": [
    "def load_and_preprocess_data_multiclass(validation_split_ratio=0.1):\n",
    "    (x_train_full, y_train_full), (x_test_full, y_test_full) = \\\n",
    "        tf.keras.datasets.cifar10.load_data()\n",
    "\n",
    "    print(f\"Original training data size: {x_train_full.shape[0]}\")\n",
    "    print(f\"Original test data size: {x_test_full.shape[0]}\")\n",
    "\n",
    "    # Normalize\n",
    "    x_train_normalized = x_train_full.astype('float32') / 255.0\n",
    "    x_test_normalized = x_test_full.astype('float32') / 255.0\n",
    "\n",
    "    # Flatten\n",
    "    x_train_flattened = x_train_normalized.reshape(x_train_normalized.shape[0], -1)\n",
    "    x_test_flattened = x_test_normalized.reshape(x_test_normalized.shape[0], -1)\n",
    "\n",
    "    # One-hot encode labels\n",
    "    y_train_one_hot = tf.keras.utils.to_categorical(y_train_full, num_classes=10)\n",
    "    y_test_one_hot = tf.keras.utils.to_categorical(y_test_full, num_classes=10)\n",
    "    y_test_int_labels = y_test_full.copy() # Keep original integer labels for evaluation\n",
    "\n",
    "    # Shuffle and split training data\n",
    "    num_train_samples = x_train_flattened.shape[0]\n",
    "    permutation = np.random.permutation(num_train_samples)\n",
    "    shuffled_X = x_train_flattened[permutation]\n",
    "    shuffled_Y_one_hot = y_train_one_hot[permutation]\n",
    "\n",
    "    split_idx = int(num_train_samples * (1 - validation_split_ratio))\n",
    "\n",
    "    x_train_final = shuffled_X[:split_idx]\n",
    "    y_train_final_one_hot = shuffled_Y_one_hot[:split_idx]\n",
    "    x_val_final = shuffled_X[split_idx:]\n",
    "    y_val_final_one_hot = shuffled_Y_one_hot[split_idx:]\n",
    "\n",
    "    print(\"--- Processed Data Shapes ---\")\n",
    "    print(f\"x_train_final: {x_train_final.shape}, y_train_final_one_hot: {y_train_final_one_hot.shape}\")\n",
    "    print(f\"x_val_final: {x_val_final.shape}, y_val_final_one_hot: {y_val_final_one_hot.shape}\")\n",
    "    print(f\"x_test_flattened: {x_test_flattened.shape}, y_test_one_hot: {y_test_one_hot.shape}\")\n",
    "    print(f\"y_test_int_labels: {y_test_int_labels.shape}\") # For final evaluation\n",
    "    print(\"-----------------------------\")\n",
    "\n",
    "    return (x_train_final, y_train_final_one_hot,\n",
    "            x_val_final, y_val_final_one_hot,\n",
    "            x_test_flattened, y_test_one_hot,\n",
    "            y_test_int_labels)"
   ],
   "outputs": [],
   "execution_count": 10
  },
  {
   "cell_type": "markdown",
   "id": "b11c8e24c78f399c",
   "metadata": {},
   "source": [
    "### Activation and Loss Functions\n",
    "\n",
    "This section defines essential functions for the neural network:\n",
    "- `sigmoid`: The sigmoid activation function, $ \\sigma(z) = \\frac{1}{1 + e^{-z}} $, typically used in hidden layers.\n",
    "- `softmax`: The softmax activation function, often used in the output layer for multiclass classification to convert logits to probabilities. It's stabilized by subtracting the max value of $z$.\n",
    "- `multiclass_cross_entropy_loss`: Calculates the cross-entropy loss for multiclass problems. Predictions are clipped to avoid `log(0)`."
   ]
  },
  {
   "cell_type": "code",
   "id": "5a8205b8dcc98298",
   "metadata": {
    "ExecuteTime": {
     "end_time": "2025-05-31T02:14:43.063678Z",
     "start_time": "2025-05-31T02:14:43.056570Z"
    }
   },
   "source": [
    "def sigmoid(z):\n",
    "    z_clipped = np.clip(z, -500, 500)\n",
    "    s = 1 / (1 + np.exp(-z_clipped))\n",
    "    return s\n",
    "\n",
    "def softmax(z):\n",
    "    exp_z = np.exp(z - np.max(z, axis=0, keepdims=True))\n",
    "    return exp_z / np.sum(exp_z, axis=0, keepdims=True)\n",
    "\n",
    "def multiclass_cross_entropy_loss(Y_true_one_hot, Y_pred_softmax):\n",
    "    m = Y_true_one_hot.shape[1]\n",
    "    epsilon = 1e-12 # Small value to prevent log(0)\n",
    "    Y_pred_softmax_clipped = np.clip(Y_pred_softmax, epsilon, 1. - epsilon)\n",
    "    cost = - (1 / m) * np.sum(Y_true_one_hot * np.log(Y_pred_softmax_clipped))\n",
    "    return np.squeeze(cost)"
   ],
   "outputs": [],
   "execution_count": 11
  },
  {
   "cell_type": "markdown",
   "id": "e773a1ed442b62dd",
   "metadata": {},
   "source": [
    "### Neural Network Implementation\n",
    "\n",
    "These functions build a one-hidden-layer neural network:\n",
    "- `define_layer_sizes_multiclass`: Specifies the number of neurons in the input, hidden, and output layers.\n",
    "- `initialize_parameters_multiclass`: Initializes weights using **He initialization** and biases to zero.\n",
    "- `forward_propagation_multiclass`: Performs the forward pass, calculating $Z^{[1]}, A^{[1]}$ (sigmoid activation) and $Z^{[2]}, A^{[2]}$ (softmax activation).\n",
    "- `backward_propagation_multiclass`: Computes the gradients ($dW^{[1]}, db^{[1]}, dW^{[2]}, db^{[2]}$) required for learning.\n",
    "- `update_parameters`: Updates model parameters using gradient descent."
   ]
  },
  {
   "cell_type": "code",
   "id": "93d551c54dea4191",
   "metadata": {
    "ExecuteTime": {
     "end_time": "2025-05-31T02:14:43.101412Z",
     "start_time": "2025-05-31T02:14:43.090345Z"
    }
   },
   "source": [
    "def define_layer_sizes_multiclass(X_input_cols, n_h, n_y_multiclass=10):\n",
    "    n_x = X_input_cols # Number of features from input data shape\n",
    "    return n_x, n_h, n_y_multiclass\n",
    "\n",
    "def initialize_parameters_multiclass(n_x, n_h, n_y):\n",
    "    np.random.seed(42) # For reproducibility\n",
    "    # He initialization for weights\n",
    "    W1 = np.random.randn(n_h, n_x) * np.sqrt(2. / n_x)\n",
    "    b1 = np.zeros((n_h, 1))\n",
    "    W2 = np.random.randn(n_y, n_h) * np.sqrt(2. / n_h)\n",
    "    b2 = np.zeros((n_y, 1))\n",
    "    return {\"W1\": W1, \"b1\": b1, \"W2\": W2, \"b2\": b2}\n",
    "\n",
    "def forward_propagation_multiclass(X_input, parameters):\n",
    "    W1, b1, W2, b2 = parameters[\"W1\"], parameters[\"b1\"], parameters[\"W2\"], parameters[\"b2\"]\n",
    "\n",
    "    Z1 = np.dot(W1, X_input) + b1\n",
    "    A1 = sigmoid(Z1) # Hidden layer activation\n",
    "    Z2 = np.dot(W2, A1) + b2\n",
    "    A2 = softmax(Z2) # Output layer activation (probabilities)\n",
    "\n",
    "    cache = {\"Z1\": Z1, \"A1\": A1, \"Z2\": Z2, \"A2\": A2}\n",
    "    return A2, cache\n",
    "\n",
    "def backward_propagation_multiclass(parameters, cache, X_input, Y_one_hot_true):\n",
    "    m = X_input.shape[1]\n",
    "    W2 = parameters[\"W2\"] \n",
    "    A1, A2 = cache[\"A1\"], cache[\"A2\"] # Activations from forward pass\n",
    "\n",
    "    # Gradient for Layer 2 (Output layer: Softmax with Cross-Entropy)\n",
    "    dZ2 = A2 - Y_one_hot_true\n",
    "    dW2 = (1 / m) * np.dot(dZ2, A1.T)\n",
    "    db2 = (1 / m) * np.sum(dZ2, axis=1, keepdims=True)\n",
    "\n",
    "    # Gradient for Layer 1 (Hidden layer: Sigmoid)\n",
    "    dA1 = np.dot(W2.T, dZ2)\n",
    "    dZ1 = dA1 * (A1 * (1 - A1)) # Derivative of sigmoid: A1 * (1 - A1)\n",
    "    dW1 = (1 / m) * np.dot(dZ1, X_input.T)\n",
    "    db1 = (1 / m) * np.sum(dZ1, axis=1, keepdims=True)\n",
    "\n",
    "    grads = {\"dW1\": dW1, \"db1\": db1, \"dW2\": dW2, \"db2\": db2}\n",
    "    return grads\n",
    "\n",
    "def update_parameters(parameters, grads, learning_rate):\n",
    "    updated_params = {}\n",
    "    # Standard gradient descent update rule\n",
    "    for key in parameters.keys(): # W1, b1, W2, b2\n",
    "        updated_params[key] = parameters[key] - learning_rate * grads['d' + key]\n",
    "    return updated_params"
   ],
   "outputs": [],
   "execution_count": 12
  },
  {
   "cell_type": "markdown",
   "id": "e882b2e77d464ad0",
   "metadata": {},
   "source": [
    "### Model Training and Evaluation\n",
    "\n",
    "- `create_minibatches`: A utility function to divide the dataset into smaller batches for **mini-batch gradient descent**. This helps in faster training and can lead to better generalization.\n",
    "- `nn_model_multiclass_advanced`: This is the main training loop. It initializes parameters, iterates through epochs, processes data in mini-batches, performs forward and backward propagation, updates parameters, and calculates training/validation loss. It incorporates **early stopping** to prevent overfitting by monitoring validation loss. Finally, it evaluates the best model on the test set using a classification report and overall accuracy."
   ]
  },
  {
   "cell_type": "code",
   "id": "e1e85d5c5c985e57",
   "metadata": {
    "ExecuteTime": {
     "end_time": "2025-05-31T02:14:43.137555Z",
     "start_time": "2025-05-31T02:14:43.130105Z"
    }
   },
   "source": [
    "def create_minibatches(X_input, Y_labels, minibatch_size=128, seed=0):\n",
    "    np.random.seed(seed)\n",
    "    m = X_input.shape[1] # Number of training examples\n",
    "    minibatches = []\n",
    "\n",
    "    # Shuffle (X, Y)\n",
    "    permutation = list(np.random.permutation(m))\n",
    "    shuffled_X = X_input[:, permutation]\n",
    "    shuffled_Y = Y_labels[:, permutation]\n",
    "\n",
    "    # Partition into minibatches\n",
    "    num_complete_minibatches = math.floor(m / minibatch_size)\n",
    "    for k in range(num_complete_minibatches):\n",
    "        minibatch_X = shuffled_X[:, k * minibatch_size : (k + 1) * minibatch_size]\n",
    "        minibatch_Y = shuffled_Y[:, k * minibatch_size : (k + 1) * minibatch_size]\n",
    "        minibatches.append((minibatch_X, minibatch_Y))\n",
    "\n",
    "    # Handle the last, possibly smaller, minibatch\n",
    "    if m % minibatch_size != 0:\n",
    "        minibatch_X = shuffled_X[:, num_complete_minibatches * minibatch_size :]\n",
    "        minibatch_Y = shuffled_Y[:, num_complete_minibatches * minibatch_size :]\n",
    "        minibatches.append((minibatch_X, minibatch_Y))\n",
    "    return minibatches"
   ],
   "outputs": [],
   "execution_count": 13
  },
  {
   "cell_type": "code",
   "id": "bc45f3566d57f3a7",
   "metadata": {
    "ExecuteTime": {
     "end_time": "2025-05-31T02:14:43.190152Z",
     "start_time": "2025-05-31T02:14:43.177044Z"
    }
   },
   "source": [
    "\n",
    "def nn_model_multiclass_advanced(\n",
    "        X_train_data, Y_train_one_hot_data, X_val_data, Y_val_one_hot_data,\n",
    "        X_test_data, Y_test_int_labels_data, # Y_test_one_hot is not directly used here\n",
    "        n_h, num_epochs=100, minibatch_size=128, learning_rate=0.01,\n",
    "        patience_early_stopping=10, print_cost_every_n_epochs=1):\n",
    "\n",
    "    # Transpose data for internal calculations: (features/classes, samples)\n",
    "    X_train_t = X_train_data.T\n",
    "    Y_train_one_hot_t = Y_train_one_hot_data.T\n",
    "    X_val_t = X_val_data.T\n",
    "    Y_val_one_hot_t = Y_val_one_hot_data.T\n",
    "    X_test_t = X_test_data.T\n",
    "\n",
    "    n_x, _, n_y = define_layer_sizes_multiclass(X_train_data.shape[1], n_h, Y_train_one_hot_data.shape[1])\n",
    "    parameters = initialize_parameters_multiclass(n_x, n_h, n_y)\n",
    "\n",
    "    train_costs, val_costs = [], []\n",
    "    best_val_cost = float('inf')\n",
    "    epochs_no_improve = 0\n",
    "    best_parameters = {k: v.copy() for k, v in parameters.items()} # Deep copy\n",
    "    current_seed = 0\n",
    "    actual_epochs_run = 0\n",
    "\n",
    "    print(f\"\\n--- Training Multiclass Neural Network ---\")\n",
    "    print(f\"Architecture: Input={n_x}, Hidden={n_h}, Output={n_y}\")\n",
    "    print(f\"Epochs={num_epochs}, LR={learning_rate}, BatchSize={minibatch_size}, Patience={patience_early_stopping}\\n\")\n",
    "\n",
    "    for epoch in range(num_epochs):\n",
    "        actual_epochs_run = epoch + 1\n",
    "        current_seed += 1 # Ensure different shuffling for minibatches each epoch\n",
    "        epoch_cost_sum = 0.0\n",
    "        minibatches = create_minibatches(X_train_t, Y_train_one_hot_t, minibatch_size, current_seed)\n",
    "\n",
    "        for minibatch_X, minibatch_Y in minibatches:\n",
    "            A2_mini, cache_mini = forward_propagation_multiclass(minibatch_X, parameters)\n",
    "            cost_mini = multiclass_cross_entropy_loss(minibatch_Y, A2_mini)\n",
    "            epoch_cost_sum += cost_mini\n",
    "            grads = backward_propagation_multiclass(parameters, cache_mini, minibatch_X, minibatch_Y)\n",
    "            parameters = update_parameters(parameters, grads, learning_rate)\n",
    "\n",
    "        avg_train_cost = epoch_cost_sum / len(minibatches)\n",
    "        train_costs.append(avg_train_cost)\n",
    "\n",
    "        A2_val, _ = forward_propagation_multiclass(X_val_t, parameters)\n",
    "        current_val_cost = multiclass_cross_entropy_loss(Y_val_one_hot_t, A2_val)\n",
    "        val_costs.append(current_val_cost)\n",
    "\n",
    "        if (epoch + 1) % print_cost_every_n_epochs == 0 or epoch == num_epochs - 1:\n",
    "            print(f\"Epoch {epoch+1}/{num_epochs} - Train Cost: {avg_train_cost:.6f} - Val Cost: {current_val_cost:.6f}\")\n",
    "\n",
    "        if current_val_cost < best_val_cost:\n",
    "            best_val_cost = current_val_cost\n",
    "            best_parameters = {k: v.copy() for k, v in parameters.items()} # Deep copy best parameters\n",
    "            epochs_no_improve = 0\n",
    "        else:\n",
    "            epochs_no_improve += 1\n",
    "            if epochs_no_improve >= patience_early_stopping:\n",
    "                print(f\"Early stopping: Epoch {epoch+1}. Best val cost: {best_val_cost:.6f}\")\n",
    "                parameters = best_parameters # Restore best parameters before stopping\n",
    "                break\n",
    "    parameters = best_parameters # Ensure the best parameters are used for evaluation\n",
    "\n",
    "    A2_test, _ = forward_propagation_multiclass(X_test_t, parameters)\n",
    "    Y_pred_test_indices = np.argmax(A2_test, axis=0) # Get predicted class indices\n",
    "\n",
    "    print(f\"\\n--- Model Evaluation on Test Set ---\")\n",
    "    # Ensure Y_test_int_labels_data is 1D array for classification_report\n",
    "    Y_test_int_flat = Y_test_int_labels_data.flatten()\n",
    "    print(\"Classification Report:\\n\", classification_report(Y_test_int_flat, Y_pred_test_indices, zero_division=0))\n",
    "\n",
    "    accuracy = np.mean(Y_pred_test_indices == Y_test_int_flat) * 100\n",
    "    print(f\"Overall Test Accuracy: {accuracy:.2f}%\")\n",
    "\n",
    "    history = {\"train_costs\": train_costs, \"val_costs\": val_costs, \"epochs_run\": actual_epochs_run}\n",
    "    results = {\"parameters\": parameters, \"history\": history, \"learning_rate\": learning_rate,\n",
    "               \"num_epochs_conf\": num_epochs, \"n_h\": n_h, \"accuracy\": accuracy,\n",
    "               \"minibatch_size\": minibatch_size}\n",
    "    return results"
   ],
   "outputs": [],
   "execution_count": 14
  },
  {
   "cell_type": "markdown",
   "id": "85b175303f454e4d",
   "metadata": {},
   "source": [
    "### Plotting Function\n",
    "\n",
    "The `plot_train_val_costs` function visualizes the training and validation loss over epochs. This plot is crucial for understanding the model's learning behavior, such as identifying overfitting or determining if more training is needed."
   ]
  },
  {
   "cell_type": "code",
   "id": "d71185e10edc8843",
   "metadata": {
    "ExecuteTime": {
     "end_time": "2025-05-31T02:14:43.214721Z",
     "start_time": "2025-05-31T02:14:43.207893Z"
    }
   },
   "source": [
    "def plot_train_val_costs(history_data, lr, n_h_nodes, batch_s):\n",
    "    train_c = history_data[\"train_costs\"]\n",
    "    val_c = history_data[\"val_costs\"]\n",
    "    epochs_r = range(1, history_data[\"epochs_run\"] + 1)\n",
    "\n",
    "    plt.figure(figsize=(10, 6))\n",
    "    plt.plot(epochs_r, train_c, label='Training Cost', marker='.')\n",
    "    plt.plot(epochs_r, val_c, label='Validation Cost', marker='.')\n",
    "    plt.ylabel('Cost (Multiclass Cross-Entropy)')\n",
    "    plt.xlabel('Epochs')\n",
    "    plt.title(f'Training & Validation Cost (Hidden: {n_h_nodes}, LR: {lr}, Batch: {batch_s})')\n",
    "    plt.legend()\n",
    "    plt.grid(True)\n",
    "    plt.tight_layout()\n",
    "    plt.show()"
   ],
   "outputs": [],
   "execution_count": 15
  },
  {
   "cell_type": "markdown",
   "id": "e167a8064ec7b58",
   "metadata": {},
   "source": [
    "### Main Execution Block\n",
    "\n",
    "This is the main script execution block. It:\n",
    "1. Sets **hyperparameters** for the neural network (hidden layer size, epochs, learning rate, etc.).\n",
    "2. Calls `load_and_preprocess_data_multiclass` to get the data.\n",
    "3. Trains the model using `nn_model_multiclass_advanced`.\n",
    "4. Calls `plot_train_val_costs` to visualize the learning curves.\n",
    "5. Prints a summary of the final results, including the test accuracy."
   ]
  },
  {
   "cell_type": "code",
   "id": "525f18a47c0d2612",
   "metadata": {
    "ExecuteTime": {
     "end_time": "2025-05-31T02:30:45.600725Z",
     "start_time": "2025-05-31T02:14:43.238458Z"
    }
   },
   "source": [
    "if __name__ == \"__main__\":\n",
    "    # Load and preprocess data\n",
    "    (x_train, y_train_oh,\n",
    "     x_val, y_val_oh,\n",
    "     x_test, _,\n",
    "     y_test_int) = load_and_preprocess_data_multiclass(validation_split_ratio=0.15)\n",
    "\n",
    "    # Hyperparameters\n",
    "    HIDDEN_LAYER_NODES = 128  # Increased hidden layer size\n",
    "    NUM_EPOCHS = 1000        # Max number of training iterations\n",
    "    LEARNING_RATE = 0.01  # Adjusted learning rate\n",
    "    MINIBATCH_SIZE = 128     # Mini-batch size\n",
    "    PATIENCE = 20           # Patience for early stopping\n",
    "    PRINT_EVERY = 10        # Frequency of printing training progress\n",
    "\n",
    "    # Train the model\n",
    "    model_results = nn_model_multiclass_advanced(\n",
    "        x_train, y_train_oh, x_val, y_val_oh, x_test, y_test_int,\n",
    "        n_h=HIDDEN_LAYER_NODES,\n",
    "        num_epochs=NUM_EPOCHS,\n",
    "        minibatch_size=MINIBATCH_SIZE,\n",
    "        learning_rate=LEARNING_RATE,\n",
    "        patience_early_stopping=PATIENCE,\n",
    "        print_cost_every_n_epochs=PRINT_EVERY\n",
    "    )\n",
    "\n",
    "    # Plot results if training completed\n",
    "    if model_results and \"history\" in model_results:\n",
    "        plot_train_val_costs(\n",
    "            model_results[\"history\"],\n",
    "            model_results[\"learning_rate\"],\n",
    "            model_results[\"n_h\"],\n",
    "            model_results[\"minibatch_size\"]\n",
    "        )\n",
    "\n",
    "    # Print final summary\n",
    "    print(f\"\\n--- Final Summary (Multiclass NN) ---\")\n",
    "    if model_results:\n",
    "        print(f\"Hidden Layer Neurons: {model_results['n_h']}\")\n",
    "        print(f\"Learning Rate: {model_results['learning_rate']}, Configured Epochs: {model_results['num_epochs_conf']}\")\n",
    "        print(f\"Actual Epochs Run: {model_results['history']['epochs_run']}\")\n",
    "        print(f\"Mini-batch Size: {model_results['minibatch_size']}\")\n",
    "        print(f\"Overall Test Accuracy: {model_results['accuracy']:.2f}%\")\n",
    "    else:\n",
    "        print(\"Model training did not produce results.\")"
   ],
   "outputs": [
    {
     "name": "stdout",
     "output_type": "stream",
     "text": [
      "Original training data size: 50000\n",
      "Original test data size: 10000\n",
      "--- Processed Data Shapes ---\n",
      "x_train_final: (42500, 3072), y_train_final_one_hot: (42500, 10)\n",
      "x_val_final: (7500, 3072), y_val_final_one_hot: (7500, 10)\n",
      "x_test_flattened: (10000, 3072), y_test_one_hot: (10000, 10)\n",
      "y_test_int_labels: (10000, 1)\n",
      "-----------------------------\n",
      "\n",
      "--- Training Multiclass Neural Network ---\n",
      "Architecture: Input=3072, Hidden=128, Output=10\n",
      "Epochs=1000, LR=0.01, BatchSize=128, Patience=20\n",
      "\n",
      "Epoch 10/1000 - Train Cost: 1.833751 - Val Cost: 1.859154\n",
      "Epoch 20/1000 - Train Cost: 1.764750 - Val Cost: 1.804860\n",
      "Epoch 30/1000 - Train Cost: 1.724792 - Val Cost: 1.757054\n",
      "Epoch 40/1000 - Train Cost: 1.689272 - Val Cost: 1.750987\n",
      "Epoch 50/1000 - Train Cost: 1.660043 - Val Cost: 1.705251\n",
      "Epoch 60/1000 - Train Cost: 1.626696 - Val Cost: 1.673380\n",
      "Epoch 70/1000 - Train Cost: 1.600198 - Val Cost: 1.653081\n",
      "Epoch 80/1000 - Train Cost: 1.579137 - Val Cost: 1.657891\n",
      "Epoch 90/1000 - Train Cost: 1.553163 - Val Cost: 1.663193\n",
      "Epoch 100/1000 - Train Cost: 1.537635 - Val Cost: 1.674486\n",
      "Epoch 110/1000 - Train Cost: 1.516476 - Val Cost: 1.592249\n",
      "Epoch 120/1000 - Train Cost: 1.497890 - Val Cost: 1.594488\n",
      "Epoch 130/1000 - Train Cost: 1.482943 - Val Cost: 1.564888\n",
      "Epoch 140/1000 - Train Cost: 1.467116 - Val Cost: 1.582467\n",
      "Epoch 150/1000 - Train Cost: 1.452893 - Val Cost: 1.551872\n",
      "Epoch 160/1000 - Train Cost: 1.436408 - Val Cost: 1.550436\n",
      "Epoch 170/1000 - Train Cost: 1.425660 - Val Cost: 1.566925\n",
      "Epoch 180/1000 - Train Cost: 1.410085 - Val Cost: 1.522677\n",
      "Epoch 190/1000 - Train Cost: 1.399452 - Val Cost: 1.566200\n",
      "Epoch 200/1000 - Train Cost: 1.384392 - Val Cost: 1.526949\n",
      "Epoch 210/1000 - Train Cost: 1.371532 - Val Cost: 1.510660\n",
      "Epoch 220/1000 - Train Cost: 1.359000 - Val Cost: 1.497797\n",
      "Epoch 230/1000 - Train Cost: 1.349144 - Val Cost: 1.529980\n",
      "Epoch 240/1000 - Train Cost: 1.336378 - Val Cost: 1.583911\n",
      "Epoch 250/1000 - Train Cost: 1.324813 - Val Cost: 1.502776\n",
      "Epoch 260/1000 - Train Cost: 1.315451 - Val Cost: 1.507178\n",
      "Epoch 270/1000 - Train Cost: 1.301257 - Val Cost: 1.478202\n",
      "Epoch 280/1000 - Train Cost: 1.289576 - Val Cost: 1.465172\n",
      "Epoch 290/1000 - Train Cost: 1.283145 - Val Cost: 1.499055\n",
      "Epoch 300/1000 - Train Cost: 1.271485 - Val Cost: 1.516171\n",
      "Epoch 310/1000 - Train Cost: 1.261626 - Val Cost: 1.500279\n",
      "Epoch 320/1000 - Train Cost: 1.255830 - Val Cost: 1.658978\n",
      "Early stopping: Epoch 323. Best val cost: 1.444284\n",
      "\n",
      "--- Model Evaluation on Test Set ---\n",
      "Classification Report:\n",
      "               precision    recall  f1-score   support\n",
      "\n",
      "           0       0.54      0.57      0.56      1000\n",
      "           1       0.64      0.58      0.61      1000\n",
      "           2       0.43      0.32      0.37      1000\n",
      "           3       0.35      0.31      0.33      1000\n",
      "           4       0.44      0.40      0.42      1000\n",
      "           5       0.35      0.48      0.41      1000\n",
      "           6       0.51      0.59      0.55      1000\n",
      "           7       0.60      0.50      0.55      1000\n",
      "           8       0.54      0.72      0.62      1000\n",
      "           9       0.61      0.50      0.55      1000\n",
      "\n",
      "    accuracy                           0.50     10000\n",
      "   macro avg       0.50      0.50      0.50     10000\n",
      "weighted avg       0.50      0.50      0.50     10000\n",
      "\n",
      "Overall Test Accuracy: 49.77%\n"
     ]
    },
    {
     "data": {
      "text/plain": [
       "<Figure size 1000x600 with 1 Axes>"
      ],
      "image/png": "[encoded data removed]"
     },
     "metadata": {},
     "output_type": "display_data"
    },
    {
     "name": "stdout",
     "output_type": "stream",
     "text": [
      "\n",
      "--- Final Summary (Multiclass NN) ---\n",
      "Hidden Layer Neurons: 128\n",
      "Learning Rate: 0.01, Configured Epochs: 1000\n",
      "Actual Epochs Run: 323\n",
      "Mini-batch Size: 128\n",
      "Overall Test Accuracy: 49.77%\n"
     ]
    }
   ],
   "execution_count": 16
  }
 ],
 "metadata": {
  "kernelspec": {
   "display_name": "Python [conda env:base] *",
   "language": "python",
   "name": "conda-base-py"
  },
  "language_info": {
   "codemirror_mode": {
    "name": "ipython",
    "version": 3
   },
   "file_extension": ".py",
   "mimetype": "text/x-python",
   "name": "python",
   "nbconvert_exporter": "python",
   "pygments_lexer": "ipython3",
   "version": "3.11.7"
  }
 },
 "nbformat": 4,
 "nbformat_minor": 5
}
